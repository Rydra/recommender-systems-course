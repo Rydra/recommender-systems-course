{
 "cells": [
  {
   "cell_type": "code",
   "execution_count": 2,
   "metadata": {},
   "outputs": [
    {
     "name": "stdout",
     "output_type": "stream",
     "text": [
      "hello worlds 1\n"
     ]
    }
   ],
   "source": [
    "# Voilà!!!\n",
    "\n",
    "print(\"hello worlds 1\")"
   ]
  },
  {
   "cell_type": "code",
   "execution_count": 3,
   "metadata": {
    "collapsed": true
   },
   "outputs": [
    {
     "name": "stdout",
     "output_type": "stream",
     "text": [
      "[0 2 4 6 8]\n"
     ]
    }
   ],
   "source": [
    "import numpy as np\n",
    "import scipy\n",
    "\n",
    "array1d = np.array([0, 2, 4, 6, 8])\n",
    "print(array1d)"
   ]
  },
  {
   "cell_type": "code",
   "execution_count": 4,
   "metadata": {},
   "outputs": [
    {
     "name": "stdout",
     "output_type": "stream",
     "text": [
      "[[ 0  2  4]\n [ 6  8 10]]\n6\n"
     ]
    }
   ],
   "source": [
    "array2d = np.array([[0, 2, 4], [6, 8, 10]])\n",
    "print(array2d)\n",
    "\n",
    "print(array2d[1, 0])"
   ]
  },
  {
   "cell_type": "code",
   "execution_count": 5,
   "metadata": {},
   "outputs": [
    {
     "name": "stdout",
     "output_type": "stream",
     "text": [
      "<class 'numpy.ndarray'>\n"
     ]
    }
   ],
   "source": [
    "print(type(array2d))"
   ]
  },
  {
   "cell_type": "code",
   "execution_count": 6,
   "metadata": {},
   "outputs": [
    {
     "name": "stdout",
     "output_type": "stream",
     "text": [
      "(2, 3)\n"
     ]
    }
   ],
   "source": [
    "print(array2d.shape)"
   ]
  },
  {
   "cell_type": "code",
   "execution_count": 7,
   "metadata": {},
   "outputs": [],
   "source": [
    "print(array2d[1, 2])"
   ]
  },
  {
   "cell_type": "code",
   "execution_count": 8,
   "metadata": {},
   "outputs": [
    {
     "name": "stdout",
     "output_type": "stream",
     "text": [
      "[6]\n[ 8 10]\n"
     ]
    }
   ],
   "source": [
    "print(array2d[1, :1])\n",
    "\n",
    "print(array2d[1, 1:])\n",
    "\n",
    "# The results of these operations are a numpy array themselves"
   ]
  },
  {
   "cell_type": "code",
   "execution_count": 9,
   "metadata": {},
   "outputs": [
    {
     "name": "stdout",
     "output_type": "stream",
     "text": [
      "[[ 1  2  4  5  9]\n [ 3  4  6  6 10]\n [15  3  2 14  7]]\n[ 6  9 14]\n"
     ]
    }
   ],
   "source": [
    "# cool ways to index numpy arrays\n",
    "new2darray = np.array([[1,2,4,5,9],[3,4,6,6,10],[15,3,2,14,7]])\n",
    "print(new2darray)\n",
    "\n",
    "\n",
    "# Let's say you want the elements with indices [1,2], [0,4], [2,3]\n",
    "newSubArray = new2darray[[1,0,2],[2,4,3]]\n",
    "print(newSubArray)"
   ]
  },
  {
   "cell_type": "code",
   "execution_count": 10,
   "metadata": {},
   "outputs": [
    {
     "data": {
      "text/plain": [
       "array([15, 14])"
      ]
     },
     "execution_count": 10,
     "metadata": {},
     "output_type": "execute_result"
    }
   ],
   "source": [
    "# You can also index a boolean array\n",
    "new2darray[new2darray > 10]\n",
    "\n",
    "# new2darray > 10 return an array with the same size and shape of the original array"
   ]
  },
  {
   "cell_type": "code",
   "execution_count": 11,
   "metadata": {},
   "outputs": [
    {
     "data": {
      "text/plain": [
       "array([[False, False, False, False, False],\n       [False, False, False, False, False],\n       [ True, False, False,  True, False]], dtype=bool)"
      ]
     },
     "execution_count": 11,
     "metadata": {},
     "output_type": "execute_result"
    }
   ],
   "source": [
    "new2darray > 10"
   ]
  },
  {
   "cell_type": "code",
   "execution_count": 17,
   "metadata": {},
   "outputs": [
    {
     "name": "stdout",
     "output_type": "stream",
     "text": [
      "[[0 0]\n [0 0]]\n[[1 1]\n [1 1]]\n[[7 7]\n [7 7]]\n[[ 1.  0.  0.]\n [ 0.  1.  0.]\n [ 0.  0.  1.]]\n"
     ]
    }
   ],
   "source": [
    "# You can create some standard arrays using built-in functions in numpy\n",
    "# Ex: Arrays with all 0's, constant arrays, random numbers, etc\n",
    "\n",
    "arrayOfZeros=np.zeros((2,2), dtype='int64')\n",
    "print(arrayOfZeros)\n",
    "\n",
    "arrayOfOnes=np.ones((2,2), dtype='int64')\n",
    "print(arrayOfOnes)\n",
    "\n",
    "arrayOfSevens=np.full((2,2), 7) # Fill a matrix with a constant value\n",
    "print(arrayOfSevens)\n",
    "\n",
    "identityMatrix = np.eye(3)\n",
    "print(identityMatrix)"
   ]
  },
  {
   "cell_type": "code",
   "execution_count": 19,
   "metadata": {},
   "outputs": [
    {
     "name": "stdout",
     "output_type": "stream",
     "text": [
      "[[ 0.90389888  0.80551531]\n [ 0.94679328  0.36052244]]\n"
     ]
    }
   ],
   "source": [
    "# You can fill an array with random numbers\n",
    "\n",
    "rndArray=np.random.random((2,2)) # Generates numbers in a uniform distribution from 0 to 1\n",
    "\n",
    "print(rndArray)"
   ]
  },
  {
   "cell_type": "code",
   "execution_count": null,
   "metadata": {},
   "outputs": [],
   "source": [
    ""
   ]
  }
 ],
 "metadata": {
  "kernelspec": {
   "display_name": "Python 3",
   "language": "python",
   "name": "python3"
  },
  "language_info": {
   "codemirror_mode": {
    "name": "ipython",
    "version": 3.0
   },
   "file_extension": ".py",
   "mimetype": "text/x-python",
   "name": "python",
   "nbconvert_exporter": "python",
   "pygments_lexer": "ipython3",
   "version": "3.6.1"
  }
 },
 "nbformat": 4,
 "nbformat_minor": 0
}