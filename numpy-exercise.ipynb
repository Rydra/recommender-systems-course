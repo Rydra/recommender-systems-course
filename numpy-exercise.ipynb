{
 "cells": [
  {
   "cell_type": "code",
   "execution_count": 2,
   "metadata": {},
   "outputs": [
    {
     "name": "stdout",
     "output_type": "stream",
     "text": [
      "hello worlds 1\n"
     ]
    }
   ],
   "source": [
    "# Voilà!!!\n",
    "\n",
    "print(\"hello worlds 1\")"
   ]
  },
  {
   "cell_type": "code",
   "execution_count": 3,
   "metadata": {
    "collapsed": true
   },
   "outputs": [
    {
     "name": "stdout",
     "output_type": "stream",
     "text": [
      "[0 2 4 6 8]\n"
     ]
    }
   ],
   "source": [
    "import numpy as np\n",
    "import scipy\n",
    "\n",
    "array1d = np.array([0, 2, 4, 6, 8])\n",
    "print(array1d)"
   ]
  },
  {
   "cell_type": "code",
   "execution_count": 4,
   "metadata": {},
   "outputs": [
    {
     "name": "stdout",
     "output_type": "stream",
     "text": [
      "[[ 0  2  4]\n [ 6  8 10]]\n6\n"
     ]
    }
   ],
   "source": [
    "array2d = np.array([[0, 2, 4], [6, 8, 10]])\n",
    "print(array2d)\n",
    "\n",
    "print(array2d[1, 0])"
   ]
  },
  {
   "cell_type": "code",
   "execution_count": 5,
   "metadata": {},
   "outputs": [
    {
     "name": "stdout",
     "output_type": "stream",
     "text": [
      "<class 'numpy.ndarray'>\n"
     ]
    }
   ],
   "source": [
    "print(type(array2d))"
   ]
  },
  {
   "cell_type": "code",
   "execution_count": 6,
   "metadata": {},
   "outputs": [
    {
     "name": "stdout",
     "output_type": "stream",
     "text": [
      "(2, 3)\n"
     ]
    }
   ],
   "source": [
    "print(array2d.shape)"
   ]
  },
  {
   "cell_type": "code",
   "execution_count": 7,
   "metadata": {},
   "outputs": [],
   "source": [
    "print(array2d[1, 2])"
   ]
  },
  {
   "cell_type": "code",
   "execution_count": 8,
   "metadata": {},
   "outputs": [
    {
     "name": "stdout",
     "output_type": "stream",
     "text": [
      "[6]\n[ 8 10]\n"
     ]
    }
   ],
   "source": [
    "print(array2d[1, :1])\n",
    "\n",
    "print(array2d[1, 1:])\n",
    "\n",
    "# The results of these operations are a numpy array themselves"
   ]
  },
  {
   "cell_type": "code",
   "execution_count": 9,
   "metadata": {},
   "outputs": [
    {
     "name": "stdout",
     "output_type": "stream",
     "text": [
      "[[ 1  2  4  5  9]\n [ 3  4  6  6 10]\n [15  3  2 14  7]]\n[ 6  9 14]\n"
     ]
    }
   ],
   "source": [
    "# cool ways to index numpy arrays\n",
    "new2darray = np.array([[1,2,4,5,9],[3,4,6,6,10],[15,3,2,14,7]])\n",
    "print(new2darray)\n",
    "\n",
    "\n",
    "# Let's say you want the elements with indices [1,2], [0,4], [2,3]\n",
    "newSubArray = new2darray[[1,0,2],[2,4,3]]\n",
    "print(newSubArray)"
   ]
  },
  {
   "cell_type": "code",
   "execution_count": 10,
   "metadata": {},
   "outputs": [
    {
     "data": {
      "text/plain": [
       "array([15, 14])"
      ]
     },
     "execution_count": 10,
     "metadata": {},
     "output_type": "execute_result"
    }
   ],
   "source": [
    "# You can also index a boolean array\n",
    "new2darray[new2darray > 10]\n",
    "\n",
    "# new2darray > 10 return an array with the same size and shape of the original array"
   ]
  },
  {
   "cell_type": "code",
   "execution_count": 11,
   "metadata": {},
   "outputs": [
    {
     "data": {
      "text/plain": [
       "array([[False, False, False, False, False],\n       [False, False, False, False, False],\n       [ True, False, False,  True, False]], dtype=bool)"
      ]
     },
     "execution_count": 11,
     "metadata": {},
     "output_type": "execute_result"
    }
   ],
   "source": [
    "new2darray > 10"
   ]
  },
  {
   "cell_type": "code",
   "execution_count": 17,
   "metadata": {},
   "outputs": [
    {
     "name": "stdout",
     "output_type": "stream",
     "text": [
      "[[0 0]\n [0 0]]\n[[1 1]\n [1 1]]\n[[7 7]\n [7 7]]\n[[ 1.  0.  0.]\n [ 0.  1.  0.]\n [ 0.  0.  1.]]\n"
     ]
    }
   ],
   "source": [
    "# You can create some standard arrays using built-in functions in numpy\n",
    "# Ex: Arrays with all 0's, constant arrays, random numbers, etc\n",
    "\n",
    "arrayOfZeros=np.zeros((2,2), dtype='int64')\n",
    "print(arrayOfZeros)\n",
    "\n",
    "arrayOfOnes=np.ones((2,2), dtype='int64')\n",
    "print(arrayOfOnes)\n",
    "\n",
    "arrayOfSevens=np.full((2,2), 7) # Fill a matrix with a constant value\n",
    "print(arrayOfSevens)\n",
    "\n",
    "identityMatrix = np.eye(3)\n",
    "print(identityMatrix)"
   ]
  },
  {
   "cell_type": "code",
   "execution_count": 19,
   "metadata": {},
   "outputs": [
    {
     "name": "stdout",
     "output_type": "stream",
     "text": [
      "[[ 0.90389888  0.80551531]\n [ 0.94679328  0.36052244]]\n"
     ]
    }
   ],
   "source": [
    "# You can fill an array with random numbers\n",
    "\n",
    "rndArray=np.random.random((2,2)) # Generates numbers in a uniform distribution from 0 to 1\n",
    "\n",
    "print(rndArray)"
   ]
  },
  {
   "cell_type": "code",
   "execution_count": 20,
   "metadata": {},
   "outputs": [
    {
     "name": "stdout",
     "output_type": "stream",
     "text": [
      "[[ 1  3 15]\n [ 2  4  3]\n [ 4  6  2]\n [ 5  6 14]\n [ 9 10  7]]\n"
     ]
    }
   ],
   "source": [
    "transposedArray = np.transpose(new2darray)\n",
    "\n",
    "print(transposedArray)"
   ]
  },
  {
   "cell_type": "code",
   "execution_count": 21,
   "metadata": {},
   "outputs": [
    {
     "name": "stdout",
     "output_type": "stream",
     "text": [
      "[[ 1  2  4  5  9  3  4  6  6 10 15  3  2 14  7]]\n"
     ]
    }
   ],
   "source": [
    "# You can reshape arrays to any shape as long as the total number of elements remains the same\n",
    "\n",
    "reshapedArray = np.reshape(new2darray, (1,15))\n",
    "print(reshapedArray)"
   ]
  },
  {
   "cell_type": "code",
   "execution_count": 22,
   "metadata": {},
   "outputs": [
    {
     "name": "stdout",
     "output_type": "stream",
     "text": [
      "[[ 1]\n [ 2]\n [ 4]\n [ 5]\n [ 9]\n [ 3]\n [ 4]\n [ 6]\n [ 6]\n [10]\n [15]\n [ 3]\n [ 2]\n [14]\n [ 7]]\n"
     ]
    }
   ],
   "source": [
    "reshapedArray = np.reshape(reshapedArray, (15,1))\n",
    "print(reshapedArray)"
   ]
  },
  {
   "cell_type": "code",
   "execution_count": 23,
   "metadata": {},
   "outputs": [
    {
     "name": "stdout",
     "output_type": "stream",
     "text": [
      "[[ 8 10 12]\n [ 7  7  7]]\n"
     ]
    }
   ],
   "source": [
    "# Normal mathematical operations can be used to perform element-wise operations\n",
    "\n",
    "array1 = np.array([[1,2,3],[4,5,6]])\n",
    "array2 = np.array([[7,8,9],[3,2,1]])\n",
    "\n",
    "print(array1 + array2)"
   ]
  },
  {
   "cell_type": "code",
   "execution_count": 24,
   "metadata": {},
   "outputs": [
    {
     "data": {
      "text/plain": [
       "array([[-6, -6, -6],\n       [ 1,  3,  5]])"
      ]
     },
     "execution_count": 24,
     "metadata": {},
     "output_type": "execute_result"
    }
   ],
   "source": [
    "# You could use which are equivalent to the operations\n",
    "np.subtract(array1,array2)"
   ]
  },
  {
   "cell_type": "code",
   "execution_count": 25,
   "metadata": {},
   "outputs": [
    {
     "data": {
      "text/plain": [
       "array([[2, 4, 6],\n       [5, 7, 9]])"
      ]
     },
     "execution_count": 25,
     "metadata": {},
     "output_type": "execute_result"
    }
   ],
   "source": [
    "# Broadcasting is a way in which you can add arrays of different dimensions\n",
    "array3 = np.array([1,2,3])\n",
    "\n",
    "array1 + array3 # This will add array 3 to each row of array1"
   ]
  },
  {
   "cell_type": "code",
   "execution_count": null,
   "metadata": {},
   "outputs": [],
   "source": [
    "# To be able to broadcast, arrays need to be aligned along to at least 1 dimension"
   ]
  },
  {
   "cell_type": "code",
   "execution_count": 26,
   "metadata": {},
   "outputs": [
    {
     "ename": "ValueError",
     "evalue": "shapes (2,3) and (2,3) not aligned: 3 (dim 1) != 2 (dim 0)",
     "traceback": [
      "\u001b[0;31m---------------------------------------------------------------------------\u001b[0m",
      "\u001b[0;31mValueError\u001b[0m                                Traceback (most recent call last)",
      "\u001b[0;32m<ipython-input-26-b81d93de9582>\u001b[0m in \u001b[0;36m<module>\u001b[0;34m()\u001b[0m\n\u001b[1;32m      5\u001b[0m \u001b[0;34m\u001b[0m\u001b[0m\n\u001b[1;32m      6\u001b[0m \u001b[0;31m# In essence, the dot product represents a correlations, or how different two matrices are\u001b[0m\u001b[0;34m\u001b[0m\u001b[0;34m\u001b[0m\u001b[0m\n\u001b[0;32m----> 7\u001b[0;31m \u001b[0mnp\u001b[0m\u001b[0;34m.\u001b[0m\u001b[0mdot\u001b[0m\u001b[0;34m(\u001b[0m\u001b[0marray1\u001b[0m\u001b[0;34m,\u001b[0m \u001b[0marray2\u001b[0m\u001b[0;34m)\u001b[0m \u001b[0;31m# won't work because both are 2x3\u001b[0m\u001b[0;34m\u001b[0m\u001b[0m\n\u001b[0m",
      "\u001b[0;31mValueError\u001b[0m: shapes (2,3) and (2,3) not aligned: 3 (dim 1) != 2 (dim 0)"
     ],
     "output_type": "error"
    }
   ],
   "source": [
    "# One important operation you'll need to perform is the dot (inner product) of 2 array (remember, each row of the first matrix is\n",
    "# multiplied by each column of the second matrix.\n",
    "\n",
    "# To multiply, the number of columns of the left matrix must be equal to the number of rows of the right matrix\n",
    "\n",
    "# In essence, the dot product represents a correlations, or how different two matrices are\n",
    "np.dot(array1, array2) # won't work because both are 2x3"
   ]
  },
  {
   "cell_type": "code",
   "execution_count": 27,
   "metadata": {},
   "outputs": [
    {
     "data": {
      "text/plain": [
       "array([[ 50,  10],\n       [122,  28]])"
      ]
     },
     "execution_count": 27,
     "metadata": {},
     "output_type": "execute_result"
    }
   ],
   "source": [
    "np.dot(array1, array2.T) # .T is a shortcut to the transpose of the array"
   ]
  },
  {
   "cell_type": "code",
   "execution_count": 28,
   "metadata": {},
   "outputs": [
    {
     "data": {
      "text/plain": [
       "array([5, 7, 9])"
      ]
     },
     "execution_count": 28,
     "metadata": {},
     "output_type": "execute_result"
    }
   ],
   "source": [
    "# You can add or multiply all elements along one axis (like compressing an array)\n",
    "\n",
    "np.sum(array1, axis=0)"
   ]
  },
  {
   "cell_type": "code",
   "execution_count": 32,
   "metadata": {},
   "outputs": [
    {
     "name": "stdout",
     "output_type": "stream",
     "text": [
      "[[1 2 3]\n [4 5 6]\n [7 8 9]\n [3 2 1]]\n[[1 2 3 7 8 9]\n [4 5 6 3 2 1]]\n"
     ]
    }
   ],
   "source": [
    "# merge arrays together with vstack or hstack\n",
    "\n",
    "print(np.vstack((array1, array2)))\n",
    "print(np.hstack((array1, array2)))"
   ]
  },
  {
   "cell_type": "code",
   "execution_count": 33,
   "metadata": {},
   "outputs": [
    {
     "data": {
      "text/plain": [
       "1.5"
      ]
     },
     "execution_count": 33,
     "metadata": {},
     "output_type": "execute_result"
    }
   ],
   "source": [
    "# Scipy has many modules to help us compute mathematical operations\n",
    "# i.e. spatial module, given two points represented by np.arrays, scipy can help you\n",
    "# find the distance between those two points\n",
    "# The distance metric could be euclidean, cosine, correlation, hamming...\n",
    "\n",
    "# pdist will compute pairwise distances between the rows in a numpy array\n",
    "\n",
    "from scipy.spatial.distance import correlation, cosine, pdist, squareform\n",
    "\n",
    "array1 = np.array([0,1,0])\n",
    "array2 = np.array([1,0,0])\n",
    "\n",
    "correlation(array1, array2)"
   ]
  },
  {
   "cell_type": "code",
   "execution_count": 36,
   "metadata": {},
   "outputs": [
    {
     "name": "stdout",
     "output_type": "stream",
     "text": [
      "[[ 0.          1.41421356]\n [ 1.41421356  0.        ]]\n"
     ]
    }
   ],
   "source": [
    "allPoints = np.vstack((array1, array2))\n",
    "d = squareform(pdist(allPoints, 'euclidean')) # Squareform will put the result in a nice, readable format\n",
    "\n",
    "# The distance metric can be changed to cosine, correlation or any other distance. Check the complete list in\n",
    "# scipy documentation\n",
    "\n",
    "# This will compute the pairwise distance between all rows in allPoints\n",
    "# d will be the square matrix d[i,j] being the Euclidean distance between allPoints[i,:] and allPoints[j,:]\n",
    "\n",
    "print(d)"
   ]
  },
  {
   "cell_type": "code",
   "execution_count": null,
   "metadata": {},
   "outputs": [],
   "source": [
    ""
   ]
  },
  {
   "cell_type": "code",
   "execution_count": null,
   "metadata": {},
   "outputs": [],
   "source": [
    ""
   ]
  },
  {
   "cell_type": "code",
   "execution_count": null,
   "metadata": {},
   "outputs": [],
   "source": [
    ""
   ]
  },
  {
   "cell_type": "code",
   "execution_count": null,
   "metadata": {},
   "outputs": [],
   "source": [
    ""
   ]
  }
 ],
 "metadata": {
  "kernelspec": {
   "display_name": "Python 3",
   "language": "python",
   "name": "python3"
  },
  "language_info": {
   "codemirror_mode": {
    "name": "ipython",
    "version": 3.0
   },
   "file_extension": ".py",
   "mimetype": "text/x-python",
   "name": "python",
   "nbconvert_exporter": "python",
   "pygments_lexer": "ipython3",
   "version": "3.6.1"
  }
 },
 "nbformat": 4,
 "nbformat_minor": 0
}